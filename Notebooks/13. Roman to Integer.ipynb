{
 "cells": [
  {
   "cell_type": "markdown",
   "metadata": {},
   "source": [
    "Roman numerals are represented by seven different symbols: I, V, X, L, C, D and M.\n",
    "\n",
    "Symbol       Value\n",
    "I             1\n",
    "V             5\n",
    "X             10\n",
    "L             50\n",
    "C             100\n",
    "D             500\n",
    "M             1000\n",
    "For example, 2 is written as II in Roman numeral, just two ones added together. 12 is written as XII, which is simply X + II. The number 27 is written as XXVII, which is XX + V + II.\n",
    "\n",
    "Roman numerals are usually written largest to smallest from left to right. However, the numeral for four is not IIII. Instead, the number four is written as IV. Because the one is before the five we subtract it making four. The same principle applies to the number nine, which is written as IX. There are six instances where subtraction is used:\n",
    "\n",
    "I can be placed before V (5) and X (10) to make 4 and 9. \n",
    "X can be placed before L (50) and C (100) to make 40 and 90. \n",
    "C can be placed before D (500) and M (1000) to make 400 and 900.\n",
    "Given a roman numeral, convert it to an integer.\n",
    "\n",
    "Example 1:\n",
    "- Input: s = \"III\"\n",
    "- Output: 3\n",
    "- Explanation: III = 3.\n",
    "\n",
    "Example 2:\n",
    "- Input: s = \"LVIII\"\n",
    "- Output: 58\n",
    "- Explanation: L = 50, V= 5, III = 3.\n",
    "\n",
    "Example 3:\n",
    "- Input: s = \"MCMXCIV\"\n",
    "- Output: 1994\n",
    "- Explanation: M = 1000, CM = 900, XC = 90 and IV = 4.\n",
    " \n",
    "\n",
    "Constraints:\n",
    "- 1 <= s.length <= 15\n",
    "- s contains only the characters ('I', 'V', 'X', 'L', 'C', 'D', 'M').\n",
    "- It is guaranteed that s is a valid roman numeral in the range [1, 3999]."
   ]
  },
  {
   "cell_type": "code",
   "execution_count": 5,
   "metadata": {},
   "outputs": [
    {
     "name": "stdout",
     "output_type": "stream",
     "text": [
      "5\n"
     ]
    },
    {
     "data": {
      "text/plain": [
       "1994"
      ]
     },
     "execution_count": 5,
     "metadata": {},
     "output_type": "execute_result"
    }
   ],
   "source": [
    "class Solution:\n",
    "    def romanToInt(self, s: str) -> int:\n",
    "        roman_dict = {'I': 1, 'V': 5, 'X': 10, 'L': 50, 'C': 100, 'D': 500, 'M': 1000}\n",
    "        value = roman_dict[s[len(s)-1]]\n",
    "        print(value)\n",
    "        for i in range(len(s)-1, 0, -1):\n",
    "            if roman_dict[s[i]] > roman_dict[s[i-1]]:\n",
    "                value -= roman_dict[s[i-1]]\n",
    "            else:\n",
    "                value += roman_dict[s[i-1]]\n",
    "        return value\n",
    "\n",
    "s = \"MCMXCIV\"\n",
    "sol = Solution()\n",
    "sol.romanToInt(s)"
   ]
  },
  {
   "cell_type": "code",
   "execution_count": 103,
   "metadata": {},
   "outputs": [
    {
     "data": {
      "text/plain": [
       "1994"
      ]
     },
     "execution_count": 103,
     "metadata": {},
     "output_type": "execute_result"
    }
   ],
   "source": [
    "class Solution:\n",
    "    def romanToInt(self, s: str) -> int:\n",
    "        value = 0\n",
    "        \n",
    "        if 'IV' in s:\n",
    "            value += 4\n",
    "            s = s.replace('IV', '')\n",
    "        if 'IX' in s:\n",
    "            value += 9\n",
    "            s = s.replace('IX', '')\n",
    "        if 'XL' in s:\n",
    "            value += 40\n",
    "            s = s.replace('XL', '')\n",
    "        if 'XC' in s:\n",
    "            value += 90\n",
    "            s = s.replace('XC', '')\n",
    "        if 'CD' in s:\n",
    "            value += 400\n",
    "            s = s.replace('CD', '')\n",
    "        if 'CM' in s:\n",
    "            value += 900\n",
    "            s = s.replace('CM', '')\n",
    "\n",
    "        roman_map = {'I': 1, 'V': 5, 'X': 10, 'L': 50, 'C': 100, 'D': 500, 'M': 1000}\n",
    "        for char in s:\n",
    "            value += roman_map[char]\n",
    "        return value \n",
    "\n",
    "s = \"MCMXCIV\"\n",
    "sol = Solution()\n",
    "sol.romanToInt(s)\n"
   ]
  },
  {
   "cell_type": "code",
   "execution_count": 105,
   "metadata": {},
   "outputs": [
    {
     "name": "stdout",
     "output_type": "stream",
     "text": [
      "949 MM\n",
      "2949\n"
     ]
    }
   ],
   "source": [
    "s = 'MMCMXLIX'\n",
    "value = 0\n",
    "if 'IV' in s:\n",
    "    value += 4\n",
    "    s = s.replace('IV', '')\n",
    "if 'IX' in s:\n",
    "    value += 9\n",
    "    s = s.replace('IX', '')\n",
    "if 'XL' in s:\n",
    "    value += 40\n",
    "    s = s.replace('XL', '')\n",
    "if 'XC' in s:\n",
    "    value += 90\n",
    "    s = s.replace('XC', '')\n",
    "if 'CD' in s:\n",
    "    value += 400\n",
    "    s = s.replace('CD', '')\n",
    "if 'CM' in s:\n",
    "    value += 900\n",
    "    s = s.replace('CM', '')\n",
    "\n",
    "print(value, s)\n",
    "\n",
    "for char in s:\n",
    "    if char == 'I':\n",
    "        value += 1\n",
    "    elif char == 'V':\n",
    "        value += 5\n",
    "    elif char == 'X':\n",
    "        value += 10\n",
    "    elif char == 'L':\n",
    "        value += 50\n",
    "    elif char == 'C':\n",
    "        value += 100\n",
    "    elif char == 'D':\n",
    "        value += 500\n",
    "    elif char == 'M':\n",
    "        value += 1000\n",
    "\n",
    "print(value)"
   ]
  },
  {
   "cell_type": "code",
   "execution_count": null,
   "metadata": {},
   "outputs": [],
   "source": []
  }
 ],
 "metadata": {
  "kernelspec": {
   "display_name": "Python 3.7.13 ('py37')",
   "language": "python",
   "name": "python3"
  },
  "language_info": {
   "codemirror_mode": {
    "name": "ipython",
    "version": 3
   },
   "file_extension": ".py",
   "mimetype": "text/x-python",
   "name": "python",
   "nbconvert_exporter": "python",
   "pygments_lexer": "ipython3",
   "version": "3.7.13"
  },
  "orig_nbformat": 4,
  "vscode": {
   "interpreter": {
    "hash": "356594d62868dadb61196cd7ee5fed67369ff5918de3acfd996962c4e0faed1c"
   }
  }
 },
 "nbformat": 4,
 "nbformat_minor": 2
}
