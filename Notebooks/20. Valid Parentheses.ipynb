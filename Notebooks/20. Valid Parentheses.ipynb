{
 "cells": [
  {
   "cell_type": "markdown",
   "metadata": {},
   "source": [
    "Given a string s containing just the characters '(', ')', '{', '}', '[' and ']', determine if the input string is valid.\n",
    "\n",
    "An input string is valid if:\n",
    "\n",
    "1. Open brackets must be closed by the same type of brackets.\n",
    "2. Open brackets must be closed in the correct order.\n",
    "\n",
    "Constraints:\n",
    "\n",
    "1 <= s.length <= 104\n",
    "s consists of parentheses only '()[]{}'."
   ]
  },
  {
   "cell_type": "code",
   "execution_count": 28,
   "metadata": {},
   "outputs": [
    {
     "data": {
      "text/plain": [
       "True"
      ]
     },
     "execution_count": 28,
     "metadata": {},
     "output_type": "execute_result"
    }
   ],
   "source": [
    "'[' in '()[]{}'"
   ]
  },
  {
   "cell_type": "code",
   "execution_count": 34,
   "metadata": {},
   "outputs": [
    {
     "data": {
      "text/plain": [
       "False"
      ]
     },
     "execution_count": 34,
     "metadata": {},
     "output_type": "execute_result"
    }
   ],
   "source": [
    "s = \"   \"\n",
    "any(c for c in s if c in \"()[]{}\")"
   ]
  },
  {
   "cell_type": "code",
   "execution_count": 96,
   "metadata": {},
   "outputs": [
    {
     "data": {
      "text/plain": [
       "False"
      ]
     },
     "execution_count": 96,
     "metadata": {},
     "output_type": "execute_result"
    }
   ],
   "source": [
    "class Solution:\n",
    "    def isValid(self, s: str) -> bool:\n",
    "        if (len(s) >= 1 and len(s) <= 104) and any(c for c in s if c in \"()[]{}\"):\n",
    "            cleaned = ''.join([c for c in s if c in \"()[]{}\"])\n",
    "            \n",
    "            if len(cleaned) % 2 == 1:\n",
    "                return False\n",
    "            else:\n",
    "                for i in range(len(cleaned)):\n",
    "                    print(i, cleaned[i])\n",
    "                    if cleaned[i] == '(' and cleaned[i+1] in '(]}':\n",
    "                        return False\n",
    "                    elif cleaned[i] == '[' and cleaned[i+1] in '[)}':\n",
    "                        return False\n",
    "                    elif cleaned[i] == '{' and cleaned[i+1] in '{])':\n",
    "                        return False\n",
    "                    else:\n",
    "                        pass\n",
    "                return True\n",
    "        else:\n",
    "            return False\n",
    "\n",
    "# s = \"   ()   []   \"\n",
    "# s = \"()\"\n",
    "# s = \"(]\"\n",
    "# s = \"()[]{}\"\n",
    "# s = ''\n",
    "# s = '( )'\n",
    "# s = '([ ] )'\n",
    "# s = '( [ {} ] )'\n",
    "# s = \"{[]}\"\n",
    "# s = \"([)]\"\n",
    "s = \"){\"\n",
    "sol = Solution()\n",
    "sol.isValid(s)"
   ]
  },
  {
   "cell_type": "code",
   "execution_count": null,
   "metadata": {},
   "outputs": [],
   "source": []
  }
 ],
 "metadata": {
  "kernelspec": {
   "display_name": "Python 3.8.5 ('base')",
   "language": "python",
   "name": "python3"
  },
  "language_info": {
   "codemirror_mode": {
    "name": "ipython",
    "version": 3
   },
   "file_extension": ".py",
   "mimetype": "text/x-python",
   "name": "python",
   "nbconvert_exporter": "python",
   "pygments_lexer": "ipython3",
   "version": "3.8.5"
  },
  "orig_nbformat": 4,
  "vscode": {
   "interpreter": {
    "hash": "ec878bdbb79f404f2cd514fe11026a67cc1fd9e75f01db234c5999f4a25024a3"
   }
  }
 },
 "nbformat": 4,
 "nbformat_minor": 2
}
