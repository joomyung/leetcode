{
 "cells": [
  {
   "cell_type": "markdown",
   "metadata": {},
   "source": [
    "Given a string s containing just the characters '(', ')', '{', '}', '[' and ']', determine if the input string is valid.\n",
    "\n",
    "An input string is valid if:\n",
    "\n",
    "1. Open brackets must be closed by the same type of brackets.\n",
    "2. Open brackets must be closed in the correct order.\n",
    "\n",
    "Constraints:\n",
    "\n",
    "1 <= s.length <= 104\n",
    "s consists of parentheses only '()[]{}'."
   ]
  },
  {
   "cell_type": "code",
   "execution_count": 58,
   "metadata": {},
   "outputs": [
    {
     "data": {
      "text/plain": [
       "True"
      ]
     },
     "execution_count": 58,
     "metadata": {},
     "output_type": "execute_result"
    }
   ],
   "source": [
    "class Solution:\n",
    "    def isValid(self, s: str) -> bool:\n",
    "        if len(s) % 2 != 0:\n",
    "            return False\n",
    "        dict = {'(' : ')', '[' : ']', '{' : '}'}\n",
    "        stack = []\n",
    "        for i in s:\n",
    "            if i in dict.keys():\n",
    "                stack.append(i)\n",
    "            else:\n",
    "                if stack == []:\n",
    "                    return False\n",
    "                a = stack.pop()\n",
    "                if i != dict[a]:\n",
    "                    return False\n",
    "        return stack == []\n",
    "\n",
    "# s = \"   ()   []   \"\n",
    "# s = \"()\"\n",
    "# s = \"(]\"\n",
    "# s = \"()[]{}\"\n",
    "# s = ''\n",
    "# s = '( )'\n",
    "# s = '([ ] )'\n",
    "# s = '( [ {} ] )'\n",
    "s = \"{[]}\"\n",
    "# s = \"([)]\"\n",
    "# s = \"){\"\n",
    "sol = Solution()\n",
    "sol.isValid(s)"
   ]
  },
  {
   "cell_type": "code",
   "execution_count": 59,
   "metadata": {},
   "outputs": [
    {
     "data": {
      "text/plain": [
       "False"
      ]
     },
     "execution_count": 59,
     "metadata": {},
     "output_type": "execute_result"
    }
   ],
   "source": [
    "s = \"{[]}\"\n",
    "'{}' in s"
   ]
  },
  {
   "cell_type": "code",
   "execution_count": null,
   "metadata": {},
   "outputs": [],
   "source": []
  }
 ],
 "metadata": {
  "kernelspec": {
   "display_name": "Python 3.7.13 ('py37')",
   "language": "python",
   "name": "python3"
  },
  "language_info": {
   "codemirror_mode": {
    "name": "ipython",
    "version": 3
   },
   "file_extension": ".py",
   "mimetype": "text/x-python",
   "name": "python",
   "nbconvert_exporter": "python",
   "pygments_lexer": "ipython3",
   "version": "3.7.13"
  },
  "orig_nbformat": 4,
  "vscode": {
   "interpreter": {
    "hash": "356594d62868dadb61196cd7ee5fed67369ff5918de3acfd996962c4e0faed1c"
   }
  }
 },
 "nbformat": 4,
 "nbformat_minor": 2
}
