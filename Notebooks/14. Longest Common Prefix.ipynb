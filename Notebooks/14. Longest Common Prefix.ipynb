{
 "cells": [
  {
   "cell_type": "code",
   "execution_count": null,
   "metadata": {},
   "outputs": [],
   "source": [
    "from typing import List\n",
    "\n",
    "class Solution:\n",
    "    def longestCommonPrefix(self, strs: List[str]) -> str:\n",
    "        if len(strs) == 0:\n",
    "            return \"\"\n",
    "\n",
    "        if len(strs) == 1:\n",
    "            return strs[0]\n",
    "\n",
    "        strs.sort(key=len)\n",
    "        \n",
    "        pre_dict = {}\n",
    "        \n",
    "        for i in range(1, len(strs)):\n",
    "            com = []\n",
    "            for j in range(len(strs[0])):\n",
    "                if strs[0][j] == strs[i][j]:\n",
    "                    com.append(strs[0][j])\n",
    "                else:\n",
    "                    pre_dict[i] = ''.join(com)\n",
    "                    break\n",
    "                pre_dict[i] = ''.join(com)\n",
    "\n",
    "        com_list = list(set(pre_dict.values()))\n",
    "        com_list.sort(key=len)\n",
    "\n",
    "        print(pre_dict)\n",
    "        print(com_list)\n",
    "\n",
    "        if len(com_list) > 0:\n",
    "            return com_list[0]\n",
    "        else:\n",
    "            return ''\n",
    "        \n",
    "strs = [\"flower\", 'flo', \"flow\", 'flowe']\n",
    "# strs = [\"dog\",\"racecar\",\"car\"]\n",
    "# strs = [\"reflower\",\"flow\",\"flight\"]\n",
    "# strs = ['', '']\n",
    "# strs = ['cir', 'car']\n",
    "sol = Solution()\n",
    "sol.longestCommonPrefix(strs)   "
   ]
  },
  {
   "cell_type": "code",
   "execution_count": 8,
   "metadata": {},
   "outputs": [
    {
     "data": {
      "text/plain": [
       "'c'"
      ]
     },
     "execution_count": 8,
     "metadata": {},
     "output_type": "execute_result"
    }
   ],
   "source": [
    "from typing import List\n",
    "\n",
    "class Solution:\n",
    "    def longestCommonPrefix(self, strs: List[str]) -> str:\n",
    "        # Longest common prefix string\n",
    "        lcp = \"\"\n",
    "\n",
    "        # Base condition\n",
    "        if strs is None or len(strs) == 0:\n",
    "            return lcp\n",
    "        \n",
    "        # Find the minimum length string from the array\n",
    "        minimumLength = len(strs[0])\n",
    "        for i in range(1, len(strs)):\n",
    "            minimumLength = min(minimumLength, len(strs[i]))\n",
    "        \n",
    "        # Loop until the minimum length\n",
    "        for i in range(0, minimumLength):\n",
    "            # Get the current character from the first string\n",
    "            current = strs[0][i]\n",
    "            \n",
    "            # Check if this character is found in all other strings or not\n",
    "            for j in range(0, len(strs)):\n",
    "                if strs[j][i] != current:\n",
    "                    return lcp  \n",
    "            \n",
    "            lcp += current\n",
    "        return lcp\n",
    "# strs = [\"flower\", 'flow', \"flo\", 'fl']\n",
    "# strs = [\"dog\",\"racecar\",\"car\"]\n",
    "# strs = [\"reflower\",\"flow\",\"flight\"]\n",
    "# strs = ['', '']\n",
    "strs = ['cir', 'car', 'caaa']\n",
    "# strs = []\n",
    "sol = Solution()\n",
    "sol.longestCommonPrefix(strs)   "
   ]
  },
  {
   "cell_type": "code",
   "execution_count": 17,
   "metadata": {},
   "outputs": [
    {
     "name": "stdout",
     "output_type": "stream",
     "text": [
      "['fl', 'flo', 'flow', 'flower']\n",
      "0 1 f \n",
      "0 2 f \n",
      "0 3 f \n",
      "1 1 l f\n",
      "1 2 l f\n",
      "1 3 l f\n"
     ]
    },
    {
     "data": {
      "text/plain": [
       "'fl'"
      ]
     },
     "execution_count": 17,
     "metadata": {},
     "output_type": "execute_result"
    }
   ],
   "source": [
    "from typing import List\n",
    "\n",
    "class Solution:\n",
    "    def longestCommonPrefix(self, strs: List[str]) -> str:\n",
    "        com = ''\n",
    "\n",
    "        if strs == None or len(strs)==0:\n",
    "            return ''\n",
    "\n",
    "        strs.sort(key=len)\n",
    "\n",
    "        for i in range(len(strs[0])):\n",
    "            current = strs[0][i]\n",
    "            for j in range(1, len(strs)):\n",
    "                if strs[j][i] != current:\n",
    "                    return com\n",
    "            com += current\n",
    "        return com\n",
    "\n",
    "strs = [\"flower\", 'flow', \"flo\", 'fl']\n",
    "# strs = [\"dog\",\"racecar\",\"car\"]\n",
    "# strs = [\"reflower\",\"flow\",\"flight\"]\n",
    "# strs = ['', '']\n",
    "# strs = ['cir', 'car', 'caaa']\n",
    "# strs = []\n",
    "sol = Solution()\n",
    "sol.longestCommonPrefix(strs)  "
   ]
  },
  {
   "cell_type": "code",
   "execution_count": null,
   "metadata": {},
   "outputs": [],
   "source": []
  }
 ],
 "metadata": {
  "kernelspec": {
   "display_name": "Python 3.7.13 ('py37')",
   "language": "python",
   "name": "python3"
  },
  "language_info": {
   "codemirror_mode": {
    "name": "ipython",
    "version": 3
   },
   "file_extension": ".py",
   "mimetype": "text/x-python",
   "name": "python",
   "nbconvert_exporter": "python",
   "pygments_lexer": "ipython3",
   "version": "3.7.13"
  },
  "orig_nbformat": 4,
  "vscode": {
   "interpreter": {
    "hash": "356594d62868dadb61196cd7ee5fed67369ff5918de3acfd996962c4e0faed1c"
   }
  }
 },
 "nbformat": 4,
 "nbformat_minor": 2
}
