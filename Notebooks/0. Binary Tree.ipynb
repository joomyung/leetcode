{
 "cells": [
  {
   "cell_type": "markdown",
   "metadata": {},
   "source": [
    "## Print Ancestors of a given node in Binary Tree\n",
    "- https://www.geeksforgeeks.org/print-ancestors-of-a-given-node-in-binary-tree/\n",
    "\n",
    "\n",
    "Given a Binary Tree and a key, write a function that prints all the ancestors of the key in the given binary tree. \n",
    "\n",
    "For example, if the given tree is following Binary Tree and key is 7, then your function should print 4, 2 and 1.\n",
    "\n",
    "              1\n",
    "            /   \\\n",
    "          2      3\n",
    "        /  \\\n",
    "      4     5\n",
    "     /\n",
    "    7"
   ]
  },
  {
   "cell_type": "code",
   "execution_count": 27,
   "metadata": {},
   "outputs": [
    {
     "name": "stdout",
     "output_type": "stream",
     "text": [
      "0\n",
      "0\n",
      "\n",
      "3\n",
      "0\n",
      "\n",
      "3\n",
      "\n",
      "1\n",
      "\n",
      "2\n",
      "root 2 \n",
      "2\n",
      "root 1 "
     ]
    },
    {
     "data": {
      "text/plain": [
       "True"
      ]
     },
     "execution_count": 27,
     "metadata": {},
     "output_type": "execute_result"
    }
   ],
   "source": [
    "# Define class Node\n",
    "class Node: \n",
    "    def __init__(self, data):\n",
    "        self.data = data\n",
    "        self.left = None\n",
    "        self.right = None\n",
    " \n",
    "# If target is present in tree, then prints the ancestors\n",
    "def print_ancestors_name(root, target):\n",
    "     \n",
    "    # If no root, return False\n",
    "    if root == None:\n",
    "        print(0)\n",
    "        return False\n",
    "     \n",
    "    # If target and root.data is the same, return True\n",
    "    if root.data == target:\n",
    "        print()\n",
    "        print(1)\n",
    "        return True\n",
    " \n",
    "    # If target is present in either left or right of a node, print the node\n",
    "    if print_ancestors_name(root.left, target) or print_ancestors_name(root.right, target):\n",
    "        print()\n",
    "        print(2)\n",
    "        print('root', root.data, end=' ')\n",
    "        return True\n",
    "    \n",
    "    print()\n",
    "    print(3)\n",
    "    # Else return False\n",
    "    return False\n",
    " \n",
    "# Driver program to test above function\n",
    "root = Node(1)\n",
    "root.left = Node(2)\n",
    "root.right = Node(3)\n",
    "root.left.left = Node(4)\n",
    "root.left.right = Node(5)\n",
    "root.left.left.left = Node(7)\n",
    " \n",
    "print_ancestors_name(root, 5)"
   ]
  },
  {
   "cell_type": "code",
   "execution_count": null,
   "metadata": {},
   "outputs": [],
   "source": []
  }
 ],
 "metadata": {
  "kernelspec": {
   "display_name": "Python 3.7.13 ('py37')",
   "language": "python",
   "name": "python3"
  },
  "language_info": {
   "codemirror_mode": {
    "name": "ipython",
    "version": 3
   },
   "file_extension": ".py",
   "mimetype": "text/x-python",
   "name": "python",
   "nbconvert_exporter": "python",
   "pygments_lexer": "ipython3",
   "version": "3.7.13"
  },
  "orig_nbformat": 4,
  "vscode": {
   "interpreter": {
    "hash": "356594d62868dadb61196cd7ee5fed67369ff5918de3acfd996962c4e0faed1c"
   }
  }
 },
 "nbformat": 4,
 "nbformat_minor": 2
}
