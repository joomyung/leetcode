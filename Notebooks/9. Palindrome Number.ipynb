{
 "cells": [
  {
   "cell_type": "markdown",
   "metadata": {},
   "source": [
    "Given an integer x, return true if x is palindrome integer.\n",
    "\n",
    "An integer is a palindrome when it reads the same backward as forward.\n",
    "\n",
    "For example, 121 is a palindrome while 123 is not.\n",
    " \n",
    "\n",
    "Example 1:\n",
    "- Input: x = 121\n",
    "- Output: true\n",
    "- Explanation: 121 reads as 121 from left to right and from right to left.\n",
    "\n",
    "\n",
    "Example 2:\n",
    "- Input: x = -121\n",
    "- Output: false\n",
    "- Explanation: From left to right, it reads -121. From right to left, it becomes 121-. Therefore it is not a palindrome.\n",
    "\n",
    "Example 3:\n",
    "- Input: x = 10\n",
    "- Output: false\n",
    "- Explanation: Reads 01 from right to left. Therefore it is not a palindrome."
   ]
  },
  {
   "cell_type": "code",
   "execution_count": 62,
   "metadata": {},
   "outputs": [],
   "source": [
    "class Solution:\n",
    "    def isPalindrome(self, x: int) -> bool:\n",
    "        if x < 0: \n",
    "            return False\n",
    "        elif x == 0:\n",
    "            return True\n",
    "        else: \n",
    "            x_orig = x\n",
    "            reversed = 0\n",
    "            while x > 0: \n",
    "                remainder = x % 10\n",
    "                reversed = reversed * 10 + remainder\n",
    "                x = x // 10\n",
    "                print(x, reversed, remainder)\n",
    "            if x_orig == reversed:\n",
    "                return True\n",
    "            else:\n",
    "                return False"
   ]
  },
  {
   "cell_type": "code",
   "execution_count": 63,
   "metadata": {},
   "outputs": [
    {
     "name": "stdout",
     "output_type": "stream",
     "text": [
      "235 3 3\n",
      "23 35 5\n",
      "2 353 3\n",
      "0 3532 2\n"
     ]
    },
    {
     "data": {
      "text/plain": [
       "False"
      ]
     },
     "execution_count": 63,
     "metadata": {},
     "output_type": "execute_result"
    }
   ],
   "source": [
    "x = 2353\n",
    "\n",
    "sol = Solution()\n",
    "sol.isPalindrome(x)"
   ]
  },
  {
   "cell_type": "code",
   "execution_count": 58,
   "metadata": {},
   "outputs": [],
   "source": [
    "class Solution:\n",
    "    def isPalindrome(self, x: int) -> bool:\n",
    "        # if x is smaller than 0, return false\n",
    "        if x < 0:\n",
    "            return False\n",
    "        elif x == 0:\n",
    "            return True\n",
    "\n",
    "        rev = ''\n",
    "        for i in range(len(str(x))-1, -1, -1):\n",
    "            rev += str(x)[i]\n",
    "\n",
    "        print(rev)\n",
    "        if rev == str(x):\n",
    "            return True\n",
    "        else:\n",
    "            return False"
   ]
  },
  {
   "cell_type": "code",
   "execution_count": 59,
   "metadata": {},
   "outputs": [
    {
     "data": {
      "text/plain": [
       "False"
      ]
     },
     "execution_count": 59,
     "metadata": {},
     "output_type": "execute_result"
    }
   ],
   "source": [
    "x = -223\n",
    "\n",
    "sol = Solution()\n",
    "sol.isPalindrome(x)"
   ]
  },
  {
   "cell_type": "code",
   "execution_count": null,
   "metadata": {},
   "outputs": [],
   "source": []
  }
 ],
 "metadata": {
  "kernelspec": {
   "display_name": "Python 3.7.13 ('py37')",
   "language": "python",
   "name": "python3"
  },
  "language_info": {
   "codemirror_mode": {
    "name": "ipython",
    "version": 3
   },
   "file_extension": ".py",
   "mimetype": "text/x-python",
   "name": "python",
   "nbconvert_exporter": "python",
   "pygments_lexer": "ipython3",
   "version": "3.7.13"
  },
  "orig_nbformat": 4,
  "vscode": {
   "interpreter": {
    "hash": "356594d62868dadb61196cd7ee5fed67369ff5918de3acfd996962c4e0faed1c"
   }
  }
 },
 "nbformat": 4,
 "nbformat_minor": 2
}
