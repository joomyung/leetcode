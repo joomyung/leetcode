{
 "cells": [
  {
   "cell_type": "markdown",
   "metadata": {},
   "source": [
    "Given an array of integers nums and an integer target, return indices of the two numbers such that they add up to target.\n",
    "\n",
    "You may assume that each input would have exactly one solution, and you may not use the same element twice.\n",
    "\n",
    "You can return the answer in any order.\n",
    "\n",
    " \n",
    "\n",
    "Example 1:\n",
    "- Input: nums = [2,7,11,15], target = 9\n",
    "- Output: [0,1]\n",
    "- Explanation: Because nums[0] + nums[1] == 9, we return [0, 1].\n",
    "\n",
    "Example 2:\n",
    "- Input: nums = [3,2,4], target = 6\n",
    "- Output: [1,2]\n",
    "\n",
    "Example 3:\n",
    "- Input: nums = [3,3], target = 6\n",
    "- Output: [0,1]"
   ]
  },
  {
   "cell_type": "code",
   "execution_count": 8,
   "metadata": {},
   "outputs": [],
   "source": [
    "from typing import List\n",
    "\n",
    "class Solution:\n",
    "    def twoSum(self, nums: List[int], target: int) -> List[int]:\n",
    "        dict_nums = {}\n",
    "        for i in range(len(nums)):\n",
    "            if target - nums[i] in dict_nums:\n",
    "                return [dict_nums[target-nums[i]], i]\n",
    "            else:\n",
    "                dict_nums[nums[i]] = i\n",
    "\n"
   ]
  },
  {
   "cell_type": "code",
   "execution_count": 13,
   "metadata": {},
   "outputs": [
    {
     "data": {
      "text/plain": [
       "[0, 1]"
      ]
     },
     "execution_count": 13,
     "metadata": {},
     "output_type": "execute_result"
    }
   ],
   "source": [
    "nums = [3,3]\n",
    "target = 6\n",
    "sol = Solution()\n",
    "sol.twoSum(nums, target)"
   ]
  },
  {
   "cell_type": "code",
   "execution_count": null,
   "metadata": {},
   "outputs": [],
   "source": []
  }
 ],
 "metadata": {
  "kernelspec": {
   "display_name": "Python 3.9.7 ('base')",
   "language": "python",
   "name": "python3"
  },
  "language_info": {
   "codemirror_mode": {
    "name": "ipython",
    "version": 3
   },
   "file_extension": ".py",
   "mimetype": "text/x-python",
   "name": "python",
   "nbconvert_exporter": "python",
   "pygments_lexer": "ipython3",
   "version": "3.9.7"
  },
  "orig_nbformat": 4,
  "vscode": {
   "interpreter": {
    "hash": "7a7acecc5d1737ae9900f847688dfbc2cef6c3aa4f8bff9d669d701e8e84c7df"
   }
  }
 },
 "nbformat": 4,
 "nbformat_minor": 2
}
