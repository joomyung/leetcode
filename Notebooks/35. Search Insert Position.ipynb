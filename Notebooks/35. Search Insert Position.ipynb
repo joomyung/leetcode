{
 "cells": [
  {
   "cell_type": "markdown",
   "metadata": {},
   "source": [
    "Given a sorted array of distinct integers and a target value, return the index if the target is found. If not, return the index where it would be if it were inserted in order.\n",
    "\n",
    "You must write an algorithm with O(log n) runtime complexity.\n",
    "\n",
    " \n",
    "\n",
    "Example 1:\n",
    "- Input: nums = [1,3,5,6], target = 5\n",
    "- Output: 2\n",
    "\n",
    "Example 2:\n",
    "- Input: nums = [1,3,5,6], target = 2\n",
    "- Output: 1\n",
    "\n",
    "Example 3:\n",
    "- Input: nums = [1,3,5,6], target = 7\n",
    "- Output: 4\n"
   ]
  },
  {
   "cell_type": "code",
   "execution_count": 15,
   "metadata": {},
   "outputs": [
    {
     "data": {
      "text/plain": [
       "4"
      ]
     },
     "execution_count": 15,
     "metadata": {},
     "output_type": "execute_result"
    }
   ],
   "source": [
    "from typing import List\n",
    "\n",
    "class Solution:\n",
    "    def searchInsert(self, nums: List[int], target: int) -> int:\n",
    "        if max(nums) < target:\n",
    "            return len(nums)\n",
    "\n",
    "        if min(nums) > target:\n",
    "            return 0\n",
    "\n",
    "        for i in range(len(nums)):\n",
    "            if nums[i] == target:\n",
    "                return i\n",
    "            elif nums[i] < target and nums[i+1] > target:\n",
    "                return i+1\n",
    "\n",
    "nums = [1,3,5,6]\n",
    "target = 10\n",
    "\n",
    "sol = Solution()\n",
    "sol.searchInsert(nums, target)"
   ]
  },
  {
   "cell_type": "code",
   "execution_count": 7,
   "metadata": {},
   "outputs": [
    {
     "data": {
      "text/plain": [
       "4"
      ]
     },
     "execution_count": 7,
     "metadata": {},
     "output_type": "execute_result"
    }
   ],
   "source": [
    "len(nums)"
   ]
  },
  {
   "cell_type": "code",
   "execution_count": null,
   "metadata": {},
   "outputs": [],
   "source": []
  }
 ],
 "metadata": {
  "kernelspec": {
   "display_name": "Python 3.7.13 ('py37')",
   "language": "python",
   "name": "python3"
  },
  "language_info": {
   "codemirror_mode": {
    "name": "ipython",
    "version": 3
   },
   "file_extension": ".py",
   "mimetype": "text/x-python",
   "name": "python",
   "nbconvert_exporter": "python",
   "pygments_lexer": "ipython3",
   "version": "3.7.13"
  },
  "orig_nbformat": 4,
  "vscode": {
   "interpreter": {
    "hash": "356594d62868dadb61196cd7ee5fed67369ff5918de3acfd996962c4e0faed1c"
   }
  }
 },
 "nbformat": 4,
 "nbformat_minor": 2
}
