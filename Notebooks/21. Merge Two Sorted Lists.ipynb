{
 "cells": [
  {
   "cell_type": "markdown",
   "metadata": {},
   "source": [
    "You are given the heads of two sorted linked lists list1 and list2.\n",
    "\n",
    "Merge the two lists in a one sorted list. The list should be made by splicing together the nodes of the first two lists.\n",
    "\n",
    "Return the head of the merged linked list.\n",
    "\n",
    "\n",
    "Example 1:\n",
    "- Input: list1 = [1,2,4], list2 = [1,3,4]\n",
    "- Output: [1,1,2,3,4,4]\n",
    "\n",
    "Example 2:\n",
    "- Input: list1 = [], list2 = []\n",
    "- Output: []\n",
    "\n",
    "Example 3:\n",
    "- Input: list1 = [], list2 = [0]\n",
    "- Output: [0]"
   ]
  },
  {
   "cell_type": "code",
   "execution_count": 23,
   "metadata": {},
   "outputs": [
    {
     "data": {
      "text/plain": [
       "<__main__.ListNode at 0x2935c64df08>"
      ]
     },
     "execution_count": 23,
     "metadata": {},
     "output_type": "execute_result"
    }
   ],
   "source": [
    "from typing import Optional\n",
    "from heapq import merge\n",
    "\n",
    "# Definition for singly-linked list.\n",
    "class ListNode:\n",
    "    def __init__(self, val=0, next=None):\n",
    "        self.val = val\n",
    "        self.next = next\n",
    "\n",
    "class Solution:\n",
    "    def mergeTwoLists(self, list1: Optional[ListNode], list2: Optional[ListNode]) -> Optional[ListNode]:\n",
    "        # Check if either of the lists is null\n",
    "        if list1 is None:\n",
    "            return list2\n",
    "        if list2 is None:\n",
    "            return list1\n",
    "\n",
    "        # Choose head which is smaller of the two lists\n",
    "        if list1.val < list2.val:\n",
    "            temp = head = ListNode(list1.val)\n",
    "            list1 = list1.next\n",
    "        else:\n",
    "            temp = head = ListNode(list2.val)\n",
    "            list2 = list2.next\n",
    "\n",
    "        # Loop until any of the list becomes null\n",
    "        while list1 is not     None and list2 is not None:\n",
    "            if list1.val < list2.val:\n",
    "                temp.next = ListNode(list1.val)\n",
    "                list1 = list1.next\n",
    "            else:\n",
    "                temp.next = ListNode(list2.val)\n",
    "                list2 = list2.next\n",
    "            temp = temp.next\n",
    "\n",
    "        # Add all the nodes in list1, if remaining\n",
    "        while list1 is not None:\n",
    "            temp.next = ListNode(list1.val)\n",
    "            list1 = list1.next\n",
    "            temp = temp.next\n",
    "            \n",
    "        # Add all the nodes in list2, if remaining\n",
    "        while list2 is not None:\n",
    "            temp.next = ListNode(list2.val)\n",
    "            list2 = list2.next\n",
    "            temp = temp.next\n",
    "        return head\n",
    "\n",
    "\n",
    " # [1,2,4] and [1,3,4]\n",
    "list1 = ListNode(1)\n",
    "list1.next = ListNode(2)\n",
    "list1.next.next = ListNode(4)\n",
    "\n",
    "list2 = ListNode(1)\n",
    "list2.next = ListNode(3)\n",
    "list2.next.next = ListNode(4)\n",
    "\n",
    "sol = Solution()\n",
    "sol.mergeTwoLists(list1, list2)"
   ]
  },
  {
   "cell_type": "code",
   "execution_count": 27,
   "metadata": {},
   "outputs": [
    {
     "data": {
      "text/plain": [
       "(1, 2, 4)"
      ]
     },
     "execution_count": 27,
     "metadata": {},
     "output_type": "execute_result"
    }
   ],
   "source": [
    "list1.val, list1.next.val, list1.next.next.val"
   ]
  },
  {
   "cell_type": "code",
   "execution_count": 29,
   "metadata": {},
   "outputs": [
    {
     "data": {
      "text/plain": [
       "(0, None)"
      ]
     },
     "execution_count": 29,
     "metadata": {},
     "output_type": "execute_result"
    }
   ],
   "source": [
    "l1 = ListNode()\n",
    "l1.val, l1.next"
   ]
  },
  {
   "cell_type": "code",
   "execution_count": 33,
   "metadata": {},
   "outputs": [
    {
     "data": {
      "text/plain": [
       "(0, <__main__.ListNode at 0x2935c7165c8>, 1, None)"
      ]
     },
     "execution_count": 33,
     "metadata": {},
     "output_type": "execute_result"
    }
   ],
   "source": [
    "l1.next = ListNode(1)\n",
    "l1.val, l1.next, l1.next.val, l1.next.next"
   ]
  },
  {
   "cell_type": "code",
   "execution_count": 32,
   "metadata": {},
   "outputs": [
    {
     "data": {
      "text/plain": [
       "(1, None)"
      ]
     },
     "execution_count": 32,
     "metadata": {},
     "output_type": "execute_result"
    }
   ],
   "source": [
    "ListNode(1).val, ListNode(1).next"
   ]
  },
  {
   "cell_type": "code",
   "execution_count": null,
   "metadata": {},
   "outputs": [],
   "source": []
  }
 ],
 "metadata": {
  "kernelspec": {
   "display_name": "Python 3.7.13 ('py37')",
   "language": "python",
   "name": "python3"
  },
  "language_info": {
   "codemirror_mode": {
    "name": "ipython",
    "version": 3
   },
   "file_extension": ".py",
   "mimetype": "text/x-python",
   "name": "python",
   "nbconvert_exporter": "python",
   "pygments_lexer": "ipython3",
   "version": "3.7.13"
  },
  "orig_nbformat": 4,
  "vscode": {
   "interpreter": {
    "hash": "356594d62868dadb61196cd7ee5fed67369ff5918de3acfd996962c4e0faed1c"
   }
  }
 },
 "nbformat": 4,
 "nbformat_minor": 2
}
