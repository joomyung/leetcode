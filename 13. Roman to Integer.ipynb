{
 "cells": [
  {
   "cell_type": "code",
   "execution_count": 104,
   "metadata": {},
   "outputs": [
    {
     "data": {
      "text/plain": [
       "1994"
      ]
     },
     "execution_count": 104,
     "metadata": {},
     "output_type": "execute_result"
    }
   ],
   "source": [
    "class Solution:\n",
    "    def romanToInt(self, s: str) -> int:\n",
    "        roman_dict = {'I': 1, 'V': 5, 'X': 10, 'L': 50, 'C': 100, 'D': 500, 'M': 1000}\n",
    "        value = roman_dict[s[len(s)-1]]\n",
    "        for i in range(len(s)-1, 0, -1):\n",
    "            if roman_dict[s[i]] > roman_dict[s[i-1]]:\n",
    "                value -= roman_dict[s[i-1]]\n",
    "            else:\n",
    "                value += roman_dict[s[i-1]]\n",
    "        return value\n",
    "\n",
    "s = \"MCMXCIV\"\n",
    "sol = Solution()\n",
    "sol.romanToInt(s)"
   ]
  },
  {
   "cell_type": "code",
   "execution_count": 103,
   "metadata": {},
   "outputs": [
    {
     "data": {
      "text/plain": [
       "1994"
      ]
     },
     "execution_count": 103,
     "metadata": {},
     "output_type": "execute_result"
    }
   ],
   "source": [
    "class Solution:\n",
    "    def romanToInt(self, s: str) -> int:\n",
    "        value = 0\n",
    "        \n",
    "        if 'IV' in s:\n",
    "            value += 4\n",
    "            s = s.replace('IV', '')\n",
    "        if 'IX' in s:\n",
    "            value += 9\n",
    "            s = s.replace('IX', '')\n",
    "        if 'XL' in s:\n",
    "            value += 40\n",
    "            s = s.replace('XL', '')\n",
    "        if 'XC' in s:\n",
    "            value += 90\n",
    "            s = s.replace('XC', '')\n",
    "        if 'CD' in s:\n",
    "            value += 400\n",
    "            s = s.replace('CD', '')\n",
    "        if 'CM' in s:\n",
    "            value += 900\n",
    "            s = s.replace('CM', '')\n",
    "\n",
    "        roman_map = {'I': 1, 'V': 5, 'X': 10, 'L': 50, 'C': 100, 'D': 500, 'M': 1000}\n",
    "        for char in s:\n",
    "            value += roman_map[char]\n",
    "        return value \n",
    "\n",
    "s = \"MCMXCIV\"\n",
    "sol = Solution()\n",
    "sol.romanToInt(s)\n"
   ]
  },
  {
   "cell_type": "code",
   "execution_count": 105,
   "metadata": {},
   "outputs": [
    {
     "name": "stdout",
     "output_type": "stream",
     "text": [
      "949 MM\n",
      "2949\n"
     ]
    }
   ],
   "source": [
    "s = 'MMCMXLIX'\n",
    "value = 0\n",
    "if 'IV' in s:\n",
    "    value += 4\n",
    "    s = s.replace('IV', '')\n",
    "if 'IX' in s:\n",
    "    value += 9\n",
    "    s = s.replace('IX', '')\n",
    "if 'XL' in s:\n",
    "    value += 40\n",
    "    s = s.replace('XL', '')\n",
    "if 'XC' in s:\n",
    "    value += 90\n",
    "    s = s.replace('XC', '')\n",
    "if 'CD' in s:\n",
    "    value += 400\n",
    "    s = s.replace('CD', '')\n",
    "if 'CM' in s:\n",
    "    value += 900\n",
    "    s = s.replace('CM', '')\n",
    "\n",
    "print(value, s)\n",
    "\n",
    "for char in s:\n",
    "    if char == 'I':\n",
    "        value += 1\n",
    "    elif char == 'V':\n",
    "        value += 5\n",
    "    elif char == 'X':\n",
    "        value += 10\n",
    "    elif char == 'L':\n",
    "        value += 50\n",
    "    elif char == 'C':\n",
    "        value += 100\n",
    "    elif char == 'D':\n",
    "        value += 500\n",
    "    elif char == 'M':\n",
    "        value += 1000\n",
    "\n",
    "print(value)"
   ]
  },
  {
   "cell_type": "code",
   "execution_count": null,
   "metadata": {},
   "outputs": [],
   "source": []
  }
 ],
 "metadata": {
  "kernelspec": {
   "display_name": "Python 3.7.13 ('py37')",
   "language": "python",
   "name": "python3"
  },
  "language_info": {
   "codemirror_mode": {
    "name": "ipython",
    "version": 3
   },
   "file_extension": ".py",
   "mimetype": "text/x-python",
   "name": "python",
   "nbconvert_exporter": "python",
   "pygments_lexer": "ipython3",
   "version": "3.7.13"
  },
  "orig_nbformat": 4,
  "vscode": {
   "interpreter": {
    "hash": "356594d62868dadb61196cd7ee5fed67369ff5918de3acfd996962c4e0faed1c"
   }
  }
 },
 "nbformat": 4,
 "nbformat_minor": 2
}
